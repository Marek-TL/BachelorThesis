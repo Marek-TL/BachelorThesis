{
 "cells": [
  {
   "attachments": {},
   "cell_type": "markdown",
   "metadata": {},
   "source": [
    "# Bachelor-Notebook"
   ]
  },
  {
   "attachments": {},
   "cell_type": "markdown",
   "metadata": {},
   "source": [
    "### Data sources:\n",
    "- [Games_of_all_time.csv](https://www.kaggle.com/datasets/xcherry/games-of-all-time-from-metacritic)\n",
    "- [metacritic_games.csv](https://www.kaggle.com/datasets/skateddu/metacritic-all-time-games-stats)\n",
    "- [Video_Games_Sales_as_at_22_Dec...](https://www.kaggle.com/datasets/rush4ratio/video-game-sales-with-ratings)\n",
    "\n",
    "##### Note: \n"
   ]
  },
  {
   "attachments": {},
   "cell_type": "markdown",
   "metadata": {},
   "source": [
    "### \"Text\""
   ]
  },
  {
   "cell_type": "code",
   "execution_count": 1,
   "metadata": {},
   "outputs": [],
   "source": [
    "#Initialising the needed libaries\n",
    "%matplotlib inline\n",
    "import pandas as pd\n",
    "import numpy as np\n",
    "import seaborn as sns \n",
    "import matplotlib.pyplot as plt "
   ]
  },
  {
   "attachments": {},
   "cell_type": "markdown",
   "metadata": {},
   "source": [
    "Code der Stata in Phython \"aktiviert\" \n",
    "von: https://www.stata.com/python/pystata/install.html "
   ]
  },
  {
   "cell_type": "code",
   "execution_count": 2,
   "metadata": {},
   "outputs": [
    {
     "name": "stdout",
     "output_type": "stream",
     "text": [
      "\n",
      "  ___  ____  ____  ____  ____ ©\n",
      " /__    /   ____/   /   ____/      17.0\n",
      "___/   /   /___/   /   /___/       MP—Parallel Edition\n",
      "\n",
      " Statistics and Data Science       Copyright 1985-2021 StataCorp LLC\n",
      "                                   StataCorp\n",
      "                                   4905 Lakeway Drive\n",
      "                                   College Station, Texas 77845 USA\n",
      "                                   800-STATA-PC        https://www.stata.com\n",
      "                                   979-696-4600        stata@stata.com\n",
      "\n",
      "Stata license: Unlimited-user 4-core network, expiring 29 Oct 2023\n",
      "Serial number: 501709301768\n",
      "  Licensed to: Uni Hamburg\n",
      "               Universität Hamburg\n",
      "\n",
      "Notes:\n",
      "      1. Unicode is supported; see help unicode_advice.\n",
      "      2. More than 2 billion observations are allowed; see help obs_advice.\n",
      "      3. Maximum number of variables is set to 5,000; see help set_maxvar.\n"
     ]
    }
   ],
   "source": [
    "import sys\n",
    "sys.path.append('C:/Program Files/Stata17/utilities')\n",
    "from pystata import config\n",
    "config.init('mp')"
   ]
  },
  {
   "cell_type": "code",
   "execution_count": null,
   "metadata": {},
   "outputs": [],
   "source": [
    "%%stata\n",
    "help levelsof"
   ]
  },
  {
   "attachments": {},
   "cell_type": "markdown",
   "metadata": {},
   "source": [
    "\"Text\""
   ]
  },
  {
   "cell_type": "code",
   "execution_count": 4,
   "metadata": {},
   "outputs": [],
   "source": [
    "#Data from the Main-Dataset\n",
    "metacrit_data = pd.read_csv(r\"data\\games_of_all_time.csv\")"
   ]
  },
  {
   "cell_type": "code",
   "execution_count": 5,
   "metadata": {},
   "outputs": [],
   "source": [
    "#Setting the option that all columns are shown.\n",
    "pd.set_option('display.max_columns', 1000)"
   ]
  },
  {
   "cell_type": "code",
   "execution_count": 6,
   "metadata": {},
   "outputs": [
    {
     "data": {
      "text/html": [
       "<div>\n",
       "<style scoped>\n",
       "    .dataframe tbody tr th:only-of-type {\n",
       "        vertical-align: middle;\n",
       "    }\n",
       "\n",
       "    .dataframe tbody tr th {\n",
       "        vertical-align: top;\n",
       "    }\n",
       "\n",
       "    .dataframe thead th {\n",
       "        text-align: right;\n",
       "    }\n",
       "</style>\n",
       "<table border=\"1\" class=\"dataframe\">\n",
       "  <thead>\n",
       "    <tr style=\"text-align: right;\">\n",
       "      <th></th>\n",
       "      <th>game_name</th>\n",
       "      <th>meta_score</th>\n",
       "      <th>user_score</th>\n",
       "      <th>platform</th>\n",
       "      <th>description</th>\n",
       "      <th>url</th>\n",
       "      <th>developer</th>\n",
       "      <th>genre</th>\n",
       "      <th>type</th>\n",
       "      <th>rating</th>\n",
       "    </tr>\n",
       "  </thead>\n",
       "  <tbody>\n",
       "    <tr>\n",
       "      <th>0</th>\n",
       "      <td>The Legend of Zelda: Ocarina of Time</td>\n",
       "      <td>99.0</td>\n",
       "      <td>91.0</td>\n",
       "      <td>['nintendo-64']</td>\n",
       "      <td>As a young boy, Link is tricked by Ganondorf, ...</td>\n",
       "      <td>https://www.metacritic.com/game/nintendo-64/th...</td>\n",
       "      <td>Nintendo</td>\n",
       "      <td>['Action Adventure', 'Fantasy']</td>\n",
       "      <td>singleplayer</td>\n",
       "      <td>E</td>\n",
       "    </tr>\n",
       "    <tr>\n",
       "      <th>1</th>\n",
       "      <td>Super Mario Galaxy</td>\n",
       "      <td>97.0</td>\n",
       "      <td>91.0</td>\n",
       "      <td>['wii']</td>\n",
       "      <td>[Metacritic's 2007 Wii Game of the Year] The u...</td>\n",
       "      <td>https://www.metacritic.com/game/wii/super-mari...</td>\n",
       "      <td>Nintendo</td>\n",
       "      <td>['Action', 'Platformer', '3D']</td>\n",
       "      <td>singleplayer</td>\n",
       "      <td>E</td>\n",
       "    </tr>\n",
       "    <tr>\n",
       "      <th>2</th>\n",
       "      <td>Super Mario Galaxy 2</td>\n",
       "      <td>97.0</td>\n",
       "      <td>91.0</td>\n",
       "      <td>['wii']</td>\n",
       "      <td>Super Mario Galaxy 2, the sequel to the galaxy...</td>\n",
       "      <td>https://www.metacritic.com/game/wii/super-mari...</td>\n",
       "      <td>Nintendo EAD Tokyo</td>\n",
       "      <td>['Action', 'Platformer', '3D']</td>\n",
       "      <td>singleplayer</td>\n",
       "      <td>E</td>\n",
       "    </tr>\n",
       "    <tr>\n",
       "      <th>3</th>\n",
       "      <td>Metroid Prime</td>\n",
       "      <td>97.0</td>\n",
       "      <td>89.0</td>\n",
       "      <td>['gamecube']</td>\n",
       "      <td>Samus returns in a new mission to unravel the ...</td>\n",
       "      <td>https://www.metacritic.com/game/gamecube/metro...</td>\n",
       "      <td>Retro Studios</td>\n",
       "      <td>['Action', 'Shooter', 'First-Person', 'Sci-Fi']</td>\n",
       "      <td>singleplayer</td>\n",
       "      <td>T</td>\n",
       "    </tr>\n",
       "    <tr>\n",
       "      <th>4</th>\n",
       "      <td>Super Mario Odyssey</td>\n",
       "      <td>97.0</td>\n",
       "      <td>89.0</td>\n",
       "      <td>['switch']</td>\n",
       "      <td>New Evolution of Mario Sandbox-Style Gameplay....</td>\n",
       "      <td>https://www.metacritic.com/game/switch/super-m...</td>\n",
       "      <td>Nintendo</td>\n",
       "      <td>['Action', 'Platformer', '3D']</td>\n",
       "      <td>singleplayer</td>\n",
       "      <td>E10+</td>\n",
       "    </tr>\n",
       "    <tr>\n",
       "      <th>...</th>\n",
       "      <td>...</td>\n",
       "      <td>...</td>\n",
       "      <td>...</td>\n",
       "      <td>...</td>\n",
       "      <td>...</td>\n",
       "      <td>...</td>\n",
       "      <td>...</td>\n",
       "      <td>...</td>\n",
       "      <td>...</td>\n",
       "      <td>...</td>\n",
       "    </tr>\n",
       "    <tr>\n",
       "      <th>8826</th>\n",
       "      <td>kill.switch</td>\n",
       "      <td>74.0</td>\n",
       "      <td>80.5</td>\n",
       "      <td>['xbox', 'playstation-2']</td>\n",
       "      <td>In a world on the brink of global conflict, yo...</td>\n",
       "      <td>https://www.metacritic.com/game/xbox/killswitch</td>\n",
       "      <td>Namco</td>\n",
       "      <td>['Action', 'Shooter', 'Third-Person', 'Modern']</td>\n",
       "      <td>singleplayer</td>\n",
       "      <td>T</td>\n",
       "    </tr>\n",
       "    <tr>\n",
       "      <th>8827</th>\n",
       "      <td>nail'd</td>\n",
       "      <td>69.0</td>\n",
       "      <td>76.0</td>\n",
       "      <td>['pc']</td>\n",
       "      <td>nail’d is all about eschewing boring realism f...</td>\n",
       "      <td>https://www.metacritic.com/game/pc/naild</td>\n",
       "      <td>Techland</td>\n",
       "      <td>['Driving', 'Racing', 'Arcade', 'Automobile']</td>\n",
       "      <td>singleplayer</td>\n",
       "      <td>E10+</td>\n",
       "    </tr>\n",
       "    <tr>\n",
       "      <th>8828</th>\n",
       "      <td>oOo: Ascension</td>\n",
       "      <td>70.0</td>\n",
       "      <td>73.0</td>\n",
       "      <td>['xbox-one']</td>\n",
       "      <td>oOo: Ascension is a lightning-paced test of re...</td>\n",
       "      <td>https://www.metacritic.com/game/xbox-one/ooo-a...</td>\n",
       "      <td>Kenny Creanor</td>\n",
       "      <td>['Action', 'General', 'Arcade']</td>\n",
       "      <td>multiplayer</td>\n",
       "      <td>E</td>\n",
       "    </tr>\n",
       "    <tr>\n",
       "      <th>8829</th>\n",
       "      <td>uDraw Studio</td>\n",
       "      <td>71.0</td>\n",
       "      <td>71.0</td>\n",
       "      <td>['wii']</td>\n",
       "      <td>Packaged with the uDraw GameTablet, uDraw Stud...</td>\n",
       "      <td>https://www.metacritic.com/game/wii/udraw-studio</td>\n",
       "      <td>THQ</td>\n",
       "      <td>['Miscellaneous', 'General']</td>\n",
       "      <td>NaN</td>\n",
       "      <td>E</td>\n",
       "    </tr>\n",
       "    <tr>\n",
       "      <th>8830</th>\n",
       "      <td>xXx</td>\n",
       "      <td>50.0</td>\n",
       "      <td>50.0</td>\n",
       "      <td>['game-boy-advance']</td>\n",
       "      <td>You are underground thrill-seeker turned spy X...</td>\n",
       "      <td>https://www.metacritic.com/game/game-boy-advan...</td>\n",
       "      <td>Digital Eclipse</td>\n",
       "      <td>['Action', 'Platformer', '2D']</td>\n",
       "      <td>singleplayer</td>\n",
       "      <td>E</td>\n",
       "    </tr>\n",
       "  </tbody>\n",
       "</table>\n",
       "<p>8831 rows × 10 columns</p>\n",
       "</div>"
      ],
      "text/plain": [
       "                                 game_name  meta_score  user_score  \\\n",
       "0     The Legend of Zelda: Ocarina of Time        99.0        91.0   \n",
       "1                       Super Mario Galaxy        97.0        91.0   \n",
       "2                     Super Mario Galaxy 2        97.0        91.0   \n",
       "3                            Metroid Prime        97.0        89.0   \n",
       "4                      Super Mario Odyssey        97.0        89.0   \n",
       "...                                    ...         ...         ...   \n",
       "8826                           kill.switch        74.0        80.5   \n",
       "8827                                nail'd        69.0        76.0   \n",
       "8828                        oOo: Ascension        70.0        73.0   \n",
       "8829                          uDraw Studio        71.0        71.0   \n",
       "8830                                   xXx        50.0        50.0   \n",
       "\n",
       "                       platform  \\\n",
       "0               ['nintendo-64']   \n",
       "1                       ['wii']   \n",
       "2                       ['wii']   \n",
       "3                  ['gamecube']   \n",
       "4                    ['switch']   \n",
       "...                         ...   \n",
       "8826  ['xbox', 'playstation-2']   \n",
       "8827                     ['pc']   \n",
       "8828               ['xbox-one']   \n",
       "8829                    ['wii']   \n",
       "8830       ['game-boy-advance']   \n",
       "\n",
       "                                            description  \\\n",
       "0     As a young boy, Link is tricked by Ganondorf, ...   \n",
       "1     [Metacritic's 2007 Wii Game of the Year] The u...   \n",
       "2     Super Mario Galaxy 2, the sequel to the galaxy...   \n",
       "3     Samus returns in a new mission to unravel the ...   \n",
       "4     New Evolution of Mario Sandbox-Style Gameplay....   \n",
       "...                                                 ...   \n",
       "8826  In a world on the brink of global conflict, yo...   \n",
       "8827  nail’d is all about eschewing boring realism f...   \n",
       "8828  oOo: Ascension is a lightning-paced test of re...   \n",
       "8829  Packaged with the uDraw GameTablet, uDraw Stud...   \n",
       "8830  You are underground thrill-seeker turned spy X...   \n",
       "\n",
       "                                                    url            developer  \\\n",
       "0     https://www.metacritic.com/game/nintendo-64/th...             Nintendo   \n",
       "1     https://www.metacritic.com/game/wii/super-mari...             Nintendo   \n",
       "2     https://www.metacritic.com/game/wii/super-mari...  Nintendo EAD Tokyo    \n",
       "3     https://www.metacritic.com/game/gamecube/metro...        Retro Studios   \n",
       "4     https://www.metacritic.com/game/switch/super-m...             Nintendo   \n",
       "...                                                 ...                  ...   \n",
       "8826    https://www.metacritic.com/game/xbox/killswitch                Namco   \n",
       "8827           https://www.metacritic.com/game/pc/naild             Techland   \n",
       "8828  https://www.metacritic.com/game/xbox-one/ooo-a...        Kenny Creanor   \n",
       "8829   https://www.metacritic.com/game/wii/udraw-studio                  THQ   \n",
       "8830  https://www.metacritic.com/game/game-boy-advan...      Digital Eclipse   \n",
       "\n",
       "                                                genre          type rating  \n",
       "0                     ['Action Adventure', 'Fantasy']  singleplayer      E  \n",
       "1                      ['Action', 'Platformer', '3D']  singleplayer      E  \n",
       "2                      ['Action', 'Platformer', '3D']  singleplayer      E  \n",
       "3     ['Action', 'Shooter', 'First-Person', 'Sci-Fi']  singleplayer      T  \n",
       "4                      ['Action', 'Platformer', '3D']  singleplayer   E10+  \n",
       "...                                               ...           ...    ...  \n",
       "8826  ['Action', 'Shooter', 'Third-Person', 'Modern']  singleplayer      T  \n",
       "8827    ['Driving', 'Racing', 'Arcade', 'Automobile']  singleplayer   E10+  \n",
       "8828                  ['Action', 'General', 'Arcade']   multiplayer      E  \n",
       "8829                     ['Miscellaneous', 'General']           NaN      E  \n",
       "8830                   ['Action', 'Platformer', '2D']  singleplayer      E  \n",
       "\n",
       "[8831 rows x 10 columns]"
      ]
     },
     "execution_count": 6,
     "metadata": {},
     "output_type": "execute_result"
    }
   ],
   "source": [
    "metacrit_data"
   ]
  },
  {
   "attachments": {},
   "cell_type": "markdown",
   "metadata": {},
   "source": [
    "\"Text\""
   ]
  },
  {
   "cell_type": "code",
   "execution_count": null,
   "metadata": {},
   "outputs": [],
   "source": []
  },
  {
   "attachments": {},
   "cell_type": "markdown",
   "metadata": {},
   "source": [
    "\"Text\""
   ]
  },
  {
   "attachments": {},
   "cell_type": "markdown",
   "metadata": {},
   "source": [
    "\"Text\""
   ]
  }
 ],
 "metadata": {
  "kernelspec": {
   "display_name": "base",
   "language": "python",
   "name": "python3"
  },
  "language_info": {
   "codemirror_mode": {
    "name": "ipython",
    "version": 3
   },
   "file_extension": ".py",
   "mimetype": "text/x-python",
   "name": "python",
   "nbconvert_exporter": "python",
   "pygments_lexer": "ipython3",
   "version": "3.9.7"
  },
  "orig_nbformat": 4,
  "vscode": {
   "interpreter": {
    "hash": "6f3b12b2165f150081b8a2cdc31478b0e04c29f3d839532763d6b5e6386ae70c"
   }
  }
 },
 "nbformat": 4,
 "nbformat_minor": 2
}
