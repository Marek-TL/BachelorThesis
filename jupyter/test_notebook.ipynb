{
 "cells": [
  {
   "cell_type": "markdown",
   "metadata": {},
   "source": [
    "Just a test for git and so on\n"
   ]
  },
  {
   "cell_type": "code",
   "execution_count": null,
   "metadata": {},
   "outputs": [],
   "source": [
    "print(\"Finally starting may bachelor!!!\")"
   ]
  },
  {
   "cell_type": "code",
   "execution_count": null,
   "metadata": {},
   "outputs": [],
   "source": [
    "import os\n",
    "import pandas\n",
    "import numpy\n"
   ]
  },
  {
   "attachments": {},
   "cell_type": "markdown",
   "metadata": {},
   "source": [
    "Code der Stata in Phython \"aktiviert\" \n",
    "von: https://www.stata.com/python/pystata/install.html "
   ]
  },
  {
   "cell_type": "code",
   "execution_count": null,
   "metadata": {},
   "outputs": [],
   "source": [
    "import sys\n",
    "sys.path.append('C:/Program Files/Stata17/utilities')\n",
    "from pystata import config\n",
    "config.init('mp')"
   ]
  },
  {
   "attachments": {},
   "cell_type": "markdown",
   "metadata": {},
   "source": [
    "%%stata wird in der Code Zeile benötigt um klar zu machen, dass nun Stata genutzt werden soll"
   ]
  },
  {
   "cell_type": "code",
   "execution_count": 10,
   "metadata": {},
   "outputs": [
    {
     "name": "stdout",
     "output_type": "stream",
     "text": [
      "\n",
      ". help levelsof\n",
      "\n",
      "[P] levelsof -- Distinct levels of a variable\n",
      "                (View complete PDF manual entry)\n",
      "\n",
      "\n",
      "Syntax\n",
      "------\n",
      "\n",
      "        levelsof varname [if] [in] [, options]\n",
      "\n",
      "    options                Description\n",
      "    -------------------------------------------------------------------------\n",
      "    clean                  display string values without compound double\n",
      "                             quotes\n",
      "    local(macname)         insert the list of values in the local macro\n",
      "                             macname\n",
      "    missing                include missing values of varname in calculation\n",
      "    separate(separator)    separator to serve as punctuation for the values\n",
      "                             of returned list; default is a space\n",
      "    matcell(matname)       save frequencies of distinct values in matname\n",
      "    matrow(matname)        save distinct values of varname in matname\n",
      "    hexadecimal            use hexadecimal format for numerical values\n",
      "    -------------------------------------------------------------------------\n",
      "    collect is allowed; see prefix.\n",
      "\n",
      "\n",
      "Description\n",
      "-----------\n",
      "\n",
      "    levelsof displays a sorted list of the distinct values of varname.\n",
      "\n",
      "\n",
      "Links to PDF documentation\n",
      "--------------------------\n",
      "\n",
      "        Remarks and examples\n",
      "\n",
      "    The above sections are not included in this help file.\n",
      "\n",
      "\n",
      "Options\n",
      "-------\n",
      "\n",
      "    clean displays string values without compound double quotes.  By default,\n",
      "        each distinct string value is displayed within compound double\n",
      "        quotes, as these are the most general delimiters.  If you know that\n",
      "        the string values in varname do not include embedded spaces or\n",
      "        embedded quotes, this is an appropriate option.  clean does not\n",
      "        affect the display of values from numeric variables.\n",
      "\n",
      "    local(macname) inserts the list of values in local macro macname within\n",
      "        the calling program's space.  Hence, that macro will be accessible\n",
      "        after levelsof has finished.  This is helpful for subsequent use,\n",
      "        especially with foreach.\n",
      "\n",
      "    missing specifies that missing values of varname be included in the\n",
      "        calculation.  The default is to exclude them.\n",
      "\n",
      "    separate(separator) specifies a separator to serve as punctuation for the\n",
      "        values of the returned list.  The default is a space.  A useful\n",
      "        alternative is a comma.\n",
      "\n",
      "    matcell(matname) saves the frequencies of the distinct values in matname.\n",
      "\n",
      "    matrow(matname) saves the distinct values of varname in matname.\n",
      "        matrow() may not be specified if varname is a string.\n",
      "\n",
      "    hexadecimal specifies that hexadecimal format %21x be used when varname\n",
      "        is numeric.  See [D] format.  This option guarantees that the values\n",
      "        in the macro that levelsof creates are exactly numerically equal to\n",
      "        their values in varname.  For integer data, except for extremely\n",
      "        large integers (absolute value > 1e19), levelsof always produces\n",
      "        values that give equality without this option.  For noninteger data\n",
      "        or extremely large integers, exact numerical equality may not be true\n",
      "        in all cases by default.  Specifying hexadecimal guarantees equality\n",
      "        in all cases.\n",
      "\n",
      "\n",
      "Remarks\n",
      "-------\n",
      "\n",
      "    levelsof serves two different functions.  First, it gives a compact\n",
      "    display of the distinct values of varname.  More commonly, it is useful\n",
      "    when you desire to cycle through the distinct values of varname with\n",
      "    (say) foreach; see [P] foreach.  levelsof leaves behind a list in\n",
      "    r(levels) that may be used in a subsequent command.  When wanting to get\n",
      "    the levels of noninteger data, one may use matrow(matname) to obtain the\n",
      "    levels in full precision.\n",
      "\n",
      "    levelsof may hit the limits imposed by your Stata.  However, it is\n",
      "    typically used when the number of distinct values of varname is not\n",
      "    extremely large.\n",
      "\n",
      "    The terminology of levels of a factor has long been standard in\n",
      "    experimental design.  See Cochran and Cox (1957, 148), Fisher (1942), or\n",
      "    Yates (1937, 5).\n",
      "\n",
      "\n",
      "Examples\n",
      "--------\n",
      "\n",
      "    . sysuse auto\n",
      "\n",
      "    . levelsof rep78\n",
      "    . display \"`r(levels)'\"\n",
      "\n",
      "    . levelsof rep78, miss local(mylevs)\n",
      "    . display \"`mylevs'\"\n",
      "\n",
      "    . levelsof rep78, sep(,)\n",
      "    . display \"`r(levels)'\"\n",
      "\n",
      "    Showing value labels when defined:\n",
      "    . levelsof factor, local(levels)\n",
      "    . foreach l of local levels {\n",
      "    .        di \"-> factor = `: label (factor) `l''\"\n",
      "    .        whatever if factor == `l'\n",
      "    . }\n",
      "\n",
      "\n",
      "Stored results\n",
      "--------------\n",
      "\n",
      "    levelsof stores the following in r():\n",
      "\n",
      "    Scalars   \n",
      "      r(N)           number of observations\n",
      "      r(r)           number of distinct values\n",
      "\n",
      "    Macros    \n",
      "      r(levels)      list of distinct values\n",
      "\n",
      "\n",
      "References\n",
      "----------\n",
      "\n",
      "    Cochran, W. G., and G. M. Cox. 1957. Experimental Designs. 2nd ed.  New\n",
      "        York: Wiley.\n",
      "\n",
      "    Fisher, R. A. 1942. The theory of confounding in factorial experiments in\n",
      "        relation to the theory of groups.  Annals of Eugenics 11: 341-353.\n",
      "\n",
      "    Yates, F. 1937. The Design and Analysis of Factorial Experiments.\n",
      "        Harpenden, England: Technical Communication 35, Imperial Bureau of\n",
      "        Soil Science.\n",
      "\n",
      ". \n",
      ". \n"
     ]
    }
   ],
   "source": [
    "%%stata\n",
    "help levelsof\n",
    "\n"
   ]
  },
  {
   "cell_type": "code",
   "execution_count": null,
   "metadata": {},
   "outputs": [],
   "source": []
  }
 ],
 "metadata": {
  "kernelspec": {
   "display_name": "Python 3.9.7 ('base')",
   "language": "python",
   "name": "python3"
  },
  "language_info": {
   "codemirror_mode": {
    "name": "ipython",
    "version": 3
   },
   "file_extension": ".py",
   "mimetype": "text/x-python",
   "name": "python",
   "nbconvert_exporter": "python",
   "pygments_lexer": "ipython3",
   "version": "3.9.7"
  },
  "orig_nbformat": 4,
  "vscode": {
   "interpreter": {
    "hash": "6f3b12b2165f150081b8a2cdc31478b0e04c29f3d839532763d6b5e6386ae70c"
   }
  }
 },
 "nbformat": 4,
 "nbformat_minor": 2
}
